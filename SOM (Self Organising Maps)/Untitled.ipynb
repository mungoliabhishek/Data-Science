{
 "cells": [
  {
   "cell_type": "code",
   "execution_count": 541,
   "metadata": {},
   "outputs": [
    {
     "name": "stdout",
     "output_type": "stream",
     "text": [
      "Populating the interactive namespace from numpy and matplotlib\n"
     ]
    },
    {
     "name": "stderr",
     "output_type": "stream",
     "text": [
      "/Users/a0m00vn/anaconda/lib/python3.6/site-packages/IPython/core/magics/pylab.py:160: UserWarning: pylab import has clobbered these variables: ['matrix']\n",
      "`%matplotlib` prevents importing * from pylab and numpy\n",
      "  \"\\n`%matplotlib` prevents importing * from pylab and numpy\"\n"
     ]
    }
   ],
   "source": [
    "%matplotlib inline\n",
    "%pylab inline\n",
    "import numpy as np\n",
    "import matplotlib.pyplot as plt\n",
    "import pandas as pd"
   ]
  },
  {
   "cell_type": "code",
   "execution_count": 542,
   "metadata": {},
   "outputs": [],
   "source": [
    "dataset = pd.read_csv(\"Credit_Card_Applications.csv\")"
   ]
  },
  {
   "cell_type": "code",
   "execution_count": 543,
   "metadata": {},
   "outputs": [
    {
     "data": {
      "text/html": [
       "<div>\n",
       "<style scoped>\n",
       "    .dataframe tbody tr th:only-of-type {\n",
       "        vertical-align: middle;\n",
       "    }\n",
       "\n",
       "    .dataframe tbody tr th {\n",
       "        vertical-align: top;\n",
       "    }\n",
       "\n",
       "    .dataframe thead th {\n",
       "        text-align: right;\n",
       "    }\n",
       "</style>\n",
       "<table border=\"1\" class=\"dataframe\">\n",
       "  <thead>\n",
       "    <tr style=\"text-align: right;\">\n",
       "      <th></th>\n",
       "      <th>CustomerID</th>\n",
       "      <th>A1</th>\n",
       "      <th>A2</th>\n",
       "      <th>A3</th>\n",
       "      <th>A4</th>\n",
       "      <th>A5</th>\n",
       "      <th>A6</th>\n",
       "      <th>A7</th>\n",
       "      <th>A8</th>\n",
       "      <th>A9</th>\n",
       "      <th>A10</th>\n",
       "      <th>A11</th>\n",
       "      <th>A12</th>\n",
       "      <th>A13</th>\n",
       "      <th>A14</th>\n",
       "      <th>Class</th>\n",
       "    </tr>\n",
       "  </thead>\n",
       "  <tbody>\n",
       "    <tr>\n",
       "      <th>0</th>\n",
       "      <td>15776156</td>\n",
       "      <td>1</td>\n",
       "      <td>22.08</td>\n",
       "      <td>11.46</td>\n",
       "      <td>2</td>\n",
       "      <td>4</td>\n",
       "      <td>4</td>\n",
       "      <td>1.585</td>\n",
       "      <td>0</td>\n",
       "      <td>0</td>\n",
       "      <td>0</td>\n",
       "      <td>1</td>\n",
       "      <td>2</td>\n",
       "      <td>100</td>\n",
       "      <td>1213</td>\n",
       "      <td>0</td>\n",
       "    </tr>\n",
       "    <tr>\n",
       "      <th>1</th>\n",
       "      <td>15739548</td>\n",
       "      <td>0</td>\n",
       "      <td>22.67</td>\n",
       "      <td>7.00</td>\n",
       "      <td>2</td>\n",
       "      <td>8</td>\n",
       "      <td>4</td>\n",
       "      <td>0.165</td>\n",
       "      <td>0</td>\n",
       "      <td>0</td>\n",
       "      <td>0</td>\n",
       "      <td>0</td>\n",
       "      <td>2</td>\n",
       "      <td>160</td>\n",
       "      <td>1</td>\n",
       "      <td>0</td>\n",
       "    </tr>\n",
       "    <tr>\n",
       "      <th>2</th>\n",
       "      <td>15662854</td>\n",
       "      <td>0</td>\n",
       "      <td>29.58</td>\n",
       "      <td>1.75</td>\n",
       "      <td>1</td>\n",
       "      <td>4</td>\n",
       "      <td>4</td>\n",
       "      <td>1.250</td>\n",
       "      <td>0</td>\n",
       "      <td>0</td>\n",
       "      <td>0</td>\n",
       "      <td>1</td>\n",
       "      <td>2</td>\n",
       "      <td>280</td>\n",
       "      <td>1</td>\n",
       "      <td>0</td>\n",
       "    </tr>\n",
       "    <tr>\n",
       "      <th>3</th>\n",
       "      <td>15687688</td>\n",
       "      <td>0</td>\n",
       "      <td>21.67</td>\n",
       "      <td>11.50</td>\n",
       "      <td>1</td>\n",
       "      <td>5</td>\n",
       "      <td>3</td>\n",
       "      <td>0.000</td>\n",
       "      <td>1</td>\n",
       "      <td>1</td>\n",
       "      <td>11</td>\n",
       "      <td>1</td>\n",
       "      <td>2</td>\n",
       "      <td>0</td>\n",
       "      <td>1</td>\n",
       "      <td>1</td>\n",
       "    </tr>\n",
       "    <tr>\n",
       "      <th>4</th>\n",
       "      <td>15715750</td>\n",
       "      <td>1</td>\n",
       "      <td>20.17</td>\n",
       "      <td>8.17</td>\n",
       "      <td>2</td>\n",
       "      <td>6</td>\n",
       "      <td>4</td>\n",
       "      <td>1.960</td>\n",
       "      <td>1</td>\n",
       "      <td>1</td>\n",
       "      <td>14</td>\n",
       "      <td>0</td>\n",
       "      <td>2</td>\n",
       "      <td>60</td>\n",
       "      <td>159</td>\n",
       "      <td>1</td>\n",
       "    </tr>\n",
       "  </tbody>\n",
       "</table>\n",
       "</div>"
      ],
      "text/plain": [
       "   CustomerID  A1     A2     A3  A4  A5  A6     A7  A8  A9  A10  A11  A12  \\\n",
       "0    15776156   1  22.08  11.46   2   4   4  1.585   0   0    0    1    2   \n",
       "1    15739548   0  22.67   7.00   2   8   4  0.165   0   0    0    0    2   \n",
       "2    15662854   0  29.58   1.75   1   4   4  1.250   0   0    0    1    2   \n",
       "3    15687688   0  21.67  11.50   1   5   3  0.000   1   1   11    1    2   \n",
       "4    15715750   1  20.17   8.17   2   6   4  1.960   1   1   14    0    2   \n",
       "\n",
       "   A13   A14  Class  \n",
       "0  100  1213      0  \n",
       "1  160     1      0  \n",
       "2  280     1      0  \n",
       "3    0     1      1  \n",
       "4   60   159      1  "
      ]
     },
     "execution_count": 543,
     "metadata": {},
     "output_type": "execute_result"
    }
   ],
   "source": [
    "dataset.head()"
   ]
  },
  {
   "cell_type": "code",
   "execution_count": 544,
   "metadata": {},
   "outputs": [],
   "source": [
    "X_original = dataset.iloc[:,1:-1].values\n",
    "y = dataset.iloc[:,-1].values"
   ]
  },
  {
   "cell_type": "code",
   "execution_count": 545,
   "metadata": {},
   "outputs": [
    {
     "data": {
      "text/plain": [
       "array([[1.000e+00, 2.208e+01, 1.146e+01, 2.000e+00, 4.000e+00, 4.000e+00,\n",
       "        1.585e+00, 0.000e+00, 0.000e+00, 0.000e+00, 1.000e+00, 2.000e+00,\n",
       "        1.000e+02, 1.213e+03],\n",
       "       [0.000e+00, 2.267e+01, 7.000e+00, 2.000e+00, 8.000e+00, 4.000e+00,\n",
       "        1.650e-01, 0.000e+00, 0.000e+00, 0.000e+00, 0.000e+00, 2.000e+00,\n",
       "        1.600e+02, 1.000e+00],\n",
       "       [0.000e+00, 2.958e+01, 1.750e+00, 1.000e+00, 4.000e+00, 4.000e+00,\n",
       "        1.250e+00, 0.000e+00, 0.000e+00, 0.000e+00, 1.000e+00, 2.000e+00,\n",
       "        2.800e+02, 1.000e+00],\n",
       "       [0.000e+00, 2.167e+01, 1.150e+01, 1.000e+00, 5.000e+00, 3.000e+00,\n",
       "        0.000e+00, 1.000e+00, 1.000e+00, 1.100e+01, 1.000e+00, 2.000e+00,\n",
       "        0.000e+00, 1.000e+00],\n",
       "       [1.000e+00, 2.017e+01, 8.170e+00, 2.000e+00, 6.000e+00, 4.000e+00,\n",
       "        1.960e+00, 1.000e+00, 1.000e+00, 1.400e+01, 0.000e+00, 2.000e+00,\n",
       "        6.000e+01, 1.590e+02]])"
      ]
     },
     "execution_count": 545,
     "metadata": {},
     "output_type": "execute_result"
    }
   ],
   "source": [
    "X_original[:5]"
   ]
  },
  {
   "cell_type": "code",
   "execution_count": 546,
   "metadata": {},
   "outputs": [
    {
     "data": {
      "text/plain": [
       "array([0, 0, 0, 1, 1])"
      ]
     },
     "execution_count": 546,
     "metadata": {},
     "output_type": "execute_result"
    }
   ],
   "source": [
    "y[:5]"
   ]
  },
  {
   "cell_type": "code",
   "execution_count": 547,
   "metadata": {},
   "outputs": [],
   "source": [
    "#Feature scaling"
   ]
  },
  {
   "cell_type": "code",
   "execution_count": 548,
   "metadata": {},
   "outputs": [],
   "source": [
    "from sklearn.preprocessing import MinMaxScaler"
   ]
  },
  {
   "cell_type": "code",
   "execution_count": 549,
   "metadata": {},
   "outputs": [],
   "source": [
    "sc = MinMaxScaler(feature_range=(0,1))"
   ]
  },
  {
   "cell_type": "code",
   "execution_count": 550,
   "metadata": {},
   "outputs": [],
   "source": [
    "X = sc.fit_transform(X_original)"
   ]
  },
  {
   "cell_type": "code",
   "execution_count": 551,
   "metadata": {},
   "outputs": [
    {
     "data": {
      "text/plain": [
       "array([[1.        , 0.12526316, 0.40928571, 0.5       , 0.23076923,\n",
       "        0.375     , 0.05561404, 0.        , 0.        , 0.        ,\n",
       "        1.        , 0.5       , 0.05      , 0.01212   ],\n",
       "       [0.        , 0.13413534, 0.25      , 0.5       , 0.53846154,\n",
       "        0.375     , 0.00578947, 0.        , 0.        , 0.        ,\n",
       "        0.        , 0.5       , 0.08      , 0.        ],\n",
       "       [0.        , 0.23804511, 0.0625    , 0.        , 0.23076923,\n",
       "        0.375     , 0.04385965, 0.        , 0.        , 0.        ,\n",
       "        1.        , 0.5       , 0.14      , 0.        ],\n",
       "       [0.        , 0.11909774, 0.41071429, 0.        , 0.30769231,\n",
       "        0.25      , 0.        , 1.        , 1.        , 0.1641791 ,\n",
       "        1.        , 0.5       , 0.        , 0.        ],\n",
       "       [1.        , 0.09654135, 0.29178571, 0.5       , 0.38461538,\n",
       "        0.375     , 0.06877193, 1.        , 1.        , 0.20895522,\n",
       "        0.        , 0.5       , 0.03      , 0.00158   ]])"
      ]
     },
     "execution_count": 551,
     "metadata": {},
     "output_type": "execute_result"
    }
   ],
   "source": [
    "X[:5]"
   ]
  },
  {
   "cell_type": "code",
   "execution_count": 552,
   "metadata": {},
   "outputs": [],
   "source": [
    "from minisom import MiniSom"
   ]
  },
  {
   "cell_type": "code",
   "execution_count": 553,
   "metadata": {},
   "outputs": [
    {
     "data": {
      "text/plain": [
       "14"
      ]
     },
     "execution_count": 553,
     "metadata": {},
     "output_type": "execute_result"
    }
   ],
   "source": [
    "len(X[0])"
   ]
  },
  {
   "cell_type": "code",
   "execution_count": 554,
   "metadata": {},
   "outputs": [],
   "source": [
    "# Grid size\n",
    "gridSizeX = 15\n",
    "gridSizeY = 15"
   ]
  },
  {
   "cell_type": "code",
   "execution_count": 555,
   "metadata": {},
   "outputs": [],
   "source": [
    "som = MiniSom(x = gridSizeX,y=gridSizeY, input_len= len(X[0]),sigma=1.0,learning_rate=0.5)"
   ]
  },
  {
   "cell_type": "code",
   "execution_count": 556,
   "metadata": {},
   "outputs": [],
   "source": [
    "som.random_weights_init(X)"
   ]
  },
  {
   "cell_type": "code",
   "execution_count": 557,
   "metadata": {},
   "outputs": [],
   "source": [
    "som.train_random(X,1000)"
   ]
  },
  {
   "cell_type": "code",
   "execution_count": 558,
   "metadata": {},
   "outputs": [],
   "source": [
    "from pylab import bone,pcolor,colorbar,plot,show"
   ]
  },
  {
   "cell_type": "code",
   "execution_count": 559,
   "metadata": {},
   "outputs": [
    {
     "data": {
      "text/plain": [
       "<Figure size 432x288 with 0 Axes>"
      ]
     },
     "metadata": {},
     "output_type": "display_data"
    }
   ],
   "source": [
    "bone()"
   ]
  },
  {
   "cell_type": "code",
   "execution_count": 560,
   "metadata": {},
   "outputs": [],
   "source": [
    "matrix  = som.distance_map()"
   ]
  },
  {
   "cell_type": "code",
   "execution_count": 561,
   "metadata": {},
   "outputs": [
    {
     "data": {
      "text/plain": [
       "(15, 15)"
      ]
     },
     "execution_count": 561,
     "metadata": {},
     "output_type": "execute_result"
    }
   ],
   "source": [
    "matrix.shape"
   ]
  },
  {
   "cell_type": "code",
   "execution_count": 562,
   "metadata": {},
   "outputs": [
    {
     "data": {
      "text/plain": [
       "<matplotlib.colorbar.Colorbar at 0x1a1ee7ff28>"
      ]
     },
     "execution_count": 562,
     "metadata": {},
     "output_type": "execute_result"
    },
    {
     "data": {
      "image/png": "[encoded data removed]",
      "text/plain": [
       "<Figure size 432x288 with 2 Axes>"
      ]
     },
     "metadata": {},
     "output_type": "display_data"
    }
   ],
   "source": [
    "pcolor(matrix.T)\n",
    "colorbar()\n",
    "# plot(0 + 0.5,\n",
    "#          1 + 0.5,\n",
    "#          'p',\n",
    "#          markeredgecolor = 'r',\n",
    "#          markerfacecolor = 'None',\n",
    "#          markersize = 10,\n",
    "#          markeredgewidth = 2)"
   ]
  },
  {
   "cell_type": "code",
   "execution_count": 563,
   "metadata": {},
   "outputs": [
    {
     "data": {
      "text/plain": [
       "(690,)"
      ]
     },
     "execution_count": 563,
     "metadata": {},
     "output_type": "execute_result"
    }
   ],
   "source": [
    "y.shape"
   ]
  },
  {
   "cell_type": "code",
   "execution_count": 564,
   "metadata": {},
   "outputs": [],
   "source": [
    "mdict = {}\n",
    "mdictDefaulter = {}\n",
    "mdictNonDefaulter = {}\n",
    "for i,x in enumerate(X):\n",
    "    winnerCell = som.winner(x)\n",
    "    if(winnerCell in mdict.keys()):\n",
    "        mdict[winnerCell] += 1\n",
    "    else:\n",
    "        mdict[winnerCell] = 1\n",
    "    cls = y[i]\n",
    "    if(cls == 0):\n",
    "        if(winnerCell in mdictNonDefaulter.keys()):\n",
    "            mdictNonDefaulter[winnerCell] += 1\n",
    "        else:\n",
    "            mdictNonDefaulter[winnerCell] = 1\n",
    "    else:\n",
    "        if(winnerCell in mdictDefaulter.keys()):\n",
    "            mdictDefaulter[winnerCell] += 1\n",
    "        else:\n",
    "            mdictDefaulter[winnerCell] = 1"
   ]
  },
  {
   "cell_type": "code",
   "execution_count": 565,
   "metadata": {},
   "outputs": [
    {
     "name": "stdout",
     "output_type": "stream",
     "text": [
      "{(2, 3): 5, (14, 0): 20, (0, 0): 7, (2, 14): 3, (13, 14): 9, (12, 1): 9, (13, 8): 8, (12, 8): 11, (0, 14): 7, (9, 11): 7, (9, 8): 6, (2, 6): 5, (14, 6): 5, (6, 12): 13, (10, 2): 8, (11, 2): 13, (7, 5): 3, (13, 7): 7, (14, 4): 6, (14, 8): 6, (9, 10): 2, (5, 5): 3, (8, 11): 2, (3, 12): 6, (4, 0): 3, (5, 8): 6, (7, 13): 6, (0, 13): 4, (12, 5): 9, (1, 8): 3, (11, 6): 6, (11, 10): 15, (1, 13): 9, (14, 1): 12, (13, 9): 19, (9, 2): 6, (0, 3): 10, (2, 11): 4, (6, 6): 6, (5, 14): 11, (12, 14): 7, (10, 5): 8, (11, 12): 5, (1, 0): 10, (5, 7): 1, (4, 1): 5, (7, 7): 2, (10, 0): 4, (14, 9): 15, (9, 9): 1, (10, 14): 7, (3, 4): 4, (14, 11): 9, (9, 0): 7, (7, 0): 9, (14, 7): 8, (0, 5): 5, (12, 7): 7, (0, 6): 4, (13, 13): 4, (4, 6): 2, (4, 9): 3, (13, 12): 5, (7, 4): 4, (12, 12): 3, (8, 5): 7, (2, 5): 5, (0, 12): 6, (5, 10): 8, (7, 12): 1, (14, 13): 4, (0, 7): 3, (8, 2): 3, (10, 4): 7, (8, 8): 4, (1, 14): 2, (6, 1): 4, (2, 9): 6, (9, 13): 4, (5, 6): 4, (3, 7): 7, (1, 1): 8, (9, 7): 1, (1, 3): 3, (14, 3): 10, (11, 4): 3, (5, 4): 9, (0, 1): 3, (11, 8): 14, (7, 11): 1, (6, 7): 1, (1, 6): 3, (1, 4): 4, (12, 0): 8, (7, 2): 4, (8, 4): 3, (14, 12): 8, (0, 10): 5, (0, 9): 1, (5, 11): 6, (13, 4): 4, (9, 12): 4, (3, 11): 4, (14, 14): 6, (13, 3): 2, (7, 14): 1, (14, 5): 1, (4, 14): 4, (8, 14): 3, (1, 9): 4, (8, 12): 1, (4, 7): 6, (3, 5): 3, (12, 4): 4, (7, 9): 2, (4, 8): 2, (7, 3): 2, (8, 9): 4, (3, 8): 1, (3, 3): 1, (0, 4): 1, (11, 7): 5, (11, 13): 2, (7, 1): 1, (12, 10): 3, (10, 6): 1, (11, 14): 1, (0, 8): 2, (8, 0): 1, (8, 13): 1, (2, 1): 1, (12, 13): 2, (6, 2): 1}\n"
     ]
    }
   ],
   "source": [
    "print(mdict)"
   ]
  },
  {
   "cell_type": "code",
   "execution_count": 566,
   "metadata": {},
   "outputs": [
    {
     "name": "stdout",
     "output_type": "stream",
     "text": [
      "{(2, 14): 3, (13, 14): 9, (12, 1): 9, (9, 11): 7, (14, 6): 1, (6, 12): 11, (10, 2): 7, (11, 2): 11, (9, 8): 3, (9, 10): 2, (8, 11): 2, (5, 8): 1, (7, 13): 5, (0, 14): 5, (0, 13): 4, (12, 5): 7, (11, 6): 5, (1, 13): 7, (13, 9): 6, (9, 2): 6, (6, 6): 3, (12, 14): 6, (10, 5): 7, (11, 12): 5, (9, 9): 1, (10, 14): 5, (14, 11): 7, (2, 6): 1, (13, 13): 4, (4, 6): 2, (4, 9): 2, (13, 12): 5, (7, 4): 3, (12, 12): 3, (8, 5): 3, (0, 12): 6, (5, 10): 8, (7, 12): 1, (14, 13): 4, (8, 2): 3, (10, 4): 5, (8, 8): 4, (1, 14): 2, (9, 13): 4, (0, 7): 1, (9, 7): 1, (14, 1): 2, (5, 5): 2, (7, 11): 1, (6, 7): 1, (12, 0): 8, (5, 4): 6, (14, 12): 8, (14, 3): 3, (5, 11): 6, (9, 12): 3, (14, 14): 5, (13, 3): 2, (7, 14): 1, (8, 14): 3, (14, 7): 1, (8, 12): 1, (2, 9): 1, (4, 7): 2, (7, 5): 1, (12, 4): 3, (10, 0): 1, (7, 9): 2, (4, 8): 2, (5, 6): 3, (8, 9): 3, (14, 4): 2, (3, 8): 1, (0, 5): 1, (1, 6): 1, (11, 13): 2, (7, 7): 1, (7, 1): 1, (11, 4): 2, (11, 14): 1, (0, 10): 1, (7, 2): 1, (8, 4): 2, (3, 7): 4, (7, 3): 1, (8, 13): 1, (1, 0): 1, (2, 1): 1, (12, 13): 2, (3, 5): 1, (13, 4): 1, (11, 10): 1}\n"
     ]
    }
   ],
   "source": [
    "print(mdictDefaulter)"
   ]
  },
  {
   "cell_type": "code",
   "execution_count": 567,
   "metadata": {},
   "outputs": [
    {
     "name": "stdout",
     "output_type": "stream",
     "text": [
      "{(2, 3): 5, (14, 0): 20, (0, 0): 7, (13, 8): 8, (12, 8): 11, (0, 14): 2, (9, 8): 3, (2, 6): 4, (7, 5): 2, (13, 7): 7, (14, 4): 4, (14, 8): 6, (5, 5): 1, (3, 12): 6, (4, 0): 3, (1, 8): 3, (6, 12): 2, (11, 10): 14, (14, 1): 10, (0, 3): 10, (2, 11): 4, (5, 14): 11, (1, 0): 9, (5, 7): 1, (4, 1): 5, (7, 7): 1, (10, 0): 3, (14, 9): 15, (3, 4): 4, (9, 0): 7, (7, 0): 9, (14, 7): 7, (0, 5): 4, (12, 7): 7, (0, 6): 4, (14, 6): 4, (2, 5): 5, (0, 7): 2, (13, 9): 13, (6, 6): 3, (6, 1): 4, (2, 9): 5, (5, 6): 1, (3, 7): 3, (1, 1): 8, (1, 3): 3, (14, 3): 7, (11, 4): 1, (5, 4): 3, (0, 1): 3, (11, 8): 14, (1, 6): 2, (5, 8): 5, (1, 4): 4, (8, 5): 4, (11, 6): 1, (7, 2): 3, (8, 4): 1, (0, 10): 4, (0, 9): 1, (7, 13): 1, (13, 4): 3, (3, 11): 4, (14, 5): 1, (4, 14): 4, (1, 9): 4, (3, 5): 2, (12, 4): 1, (14, 11): 2, (7, 3): 1, (4, 7): 4, (3, 3): 1, (0, 4): 1, (11, 7): 5, (11, 2): 2, (12, 10): 3, (10, 6): 1, (12, 5): 2, (0, 8): 2, (10, 14): 2, (4, 9): 1, (8, 0): 1, (8, 9): 1, (10, 5): 1, (1, 13): 2, (9, 12): 1, (14, 14): 1, (10, 4): 2, (7, 4): 1, (10, 2): 1, (12, 14): 1, (6, 2): 1}\n"
     ]
    }
   ],
   "source": [
    "print(mdictNonDefaulter)"
   ]
  },
  {
   "cell_type": "code",
   "execution_count": 568,
   "metadata": {},
   "outputs": [
    {
     "name": "stdout",
     "output_type": "stream",
     "text": [
      "7 3 0 10 1 5 4 3 2 1 5 0 6 4 7 \n",
      "10 8 0 3 4 0 3 0 3 4 0 0 0 9 2 \n",
      "0 1 0 5 0 5 5 0 0 6 0 4 0 0 3 \n",
      "0 0 0 1 4 3 0 7 1 0 0 4 6 0 0 \n",
      "3 5 0 0 0 0 2 6 2 3 0 0 0 0 4 \n",
      "0 0 0 0 9 3 4 1 6 0 8 6 0 0 11 \n",
      "0 4 1 0 0 0 6 1 0 0 0 0 13 0 0 \n",
      "9 1 4 2 4 3 0 2 0 2 0 1 1 6 1 \n",
      "1 0 3 0 3 7 0 0 4 4 0 2 1 1 3 \n",
      "7 0 6 0 0 0 0 1 6 1 2 7 4 4 0 \n",
      "4 0 8 0 7 8 1 0 0 0 0 0 0 0 7 \n",
      "0 0 13 0 3 0 6 5 14 0 15 0 5 2 1 \n",
      "8 9 0 0 4 9 0 7 11 0 3 0 3 2 7 \n",
      "0 0 0 2 4 0 0 7 8 19 0 0 5 4 9 \n",
      "20 12 0 10 6 1 5 8 6 15 0 9 8 4 6 \n"
     ]
    }
   ],
   "source": [
    "for i in range(0,gridSizeX):\n",
    "    for j in range(0,gridSizeY):\n",
    "        if((i,j) in mdict.keys()):\n",
    "            print(mdict[(i,j)],end=' ')\n",
    "        else:\n",
    "            print(0,end=' ')\n",
    "    print()"
   ]
  },
  {
   "cell_type": "code",
   "execution_count": 569,
   "metadata": {},
   "outputs": [
    {
     "name": "stdout",
     "output_type": "stream",
     "text": [
      "0 0 0 0 0 1 0 1 0 0 1 0 6 4 5 \n",
      "1 0 0 0 0 0 1 0 0 0 0 0 0 7 2 \n",
      "0 1 0 0 0 0 1 0 0 1 0 0 0 0 3 \n",
      "0 0 0 0 0 1 0 4 1 0 0 0 0 0 0 \n",
      "0 0 0 0 0 0 2 2 2 2 0 0 0 0 0 \n",
      "0 0 0 0 6 2 3 0 1 0 8 6 0 0 0 \n",
      "0 0 0 0 0 0 3 1 0 0 0 0 11 0 0 \n",
      "0 1 1 1 3 1 0 1 0 2 0 1 1 5 1 \n",
      "0 0 3 0 2 3 0 0 4 3 0 2 1 1 3 \n",
      "0 0 6 0 0 0 0 1 3 1 2 7 3 4 0 \n",
      "1 0 7 0 5 7 0 0 0 0 0 0 0 0 5 \n",
      "0 0 11 0 2 0 5 0 0 0 1 0 5 2 1 \n",
      "8 9 0 0 3 7 0 0 0 0 0 0 3 2 6 \n",
      "0 0 0 2 1 0 0 0 0 6 0 0 5 4 9 \n",
      "0 2 0 3 2 0 1 1 0 0 0 7 8 4 5 \n"
     ]
    }
   ],
   "source": [
    "for i in range(0,gridSizeX):\n",
    "    for j in range(0,gridSizeY):\n",
    "        if((i,j) in mdictDefaulter.keys()):\n",
    "            print(mdictDefaulter[(i,j)],end=' ')\n",
    "        else:\n",
    "            mdictDefaulter[(i,j)] = 0\n",
    "            print(0,end=' ')\n",
    "    print()"
   ]
  },
  {
   "cell_type": "code",
   "execution_count": 570,
   "metadata": {},
   "outputs": [
    {
     "name": "stdout",
     "output_type": "stream",
     "text": [
      "7 3 0 10 1 4 4 2 2 1 4 0 0 0 2 \n",
      "9 8 0 3 4 0 2 0 3 4 0 0 0 2 0 \n",
      "0 0 0 5 0 5 4 0 0 5 0 4 0 0 0 \n",
      "0 0 0 1 4 2 0 3 0 0 0 4 6 0 0 \n",
      "3 5 0 0 0 0 0 4 0 1 0 0 0 0 4 \n",
      "0 0 0 0 3 1 1 1 5 0 0 0 0 0 11 \n",
      "0 4 1 0 0 0 3 0 0 0 0 0 2 0 0 \n",
      "9 0 3 1 1 2 0 1 0 0 0 0 0 1 0 \n",
      "1 0 0 0 1 4 0 0 0 1 0 0 0 0 0 \n",
      "7 0 0 0 0 0 0 0 3 0 0 0 1 0 0 \n",
      "3 0 1 0 2 1 1 0 0 0 0 0 0 0 2 \n",
      "0 0 2 0 1 0 1 5 14 0 14 0 0 0 0 \n",
      "0 0 0 0 1 2 0 7 11 0 3 0 0 0 1 \n",
      "0 0 0 0 3 0 0 7 8 13 0 0 0 0 0 \n",
      "20 10 0 7 4 1 4 7 6 15 0 2 0 0 1 \n"
     ]
    }
   ],
   "source": [
    "for i in range(0,gridSizeX):\n",
    "    for j in range(0,gridSizeY):\n",
    "        if((i,j) in mdictNonDefaulter.keys()):\n",
    "            print(mdictNonDefaulter[(i,j)],end=' ')\n",
    "        else:\n",
    "            mdictNonDefaulter[(i,j)] = 0\n",
    "            print(0,end=' ')\n",
    "    print()"
   ]
  },
  {
   "cell_type": "code",
   "execution_count": 571,
   "metadata": {},
   "outputs": [
    {
     "name": "stdout",
     "output_type": "stream",
     "text": [
      "-7 -3 0 -10 -1 -3 -4 -1 -2 -1 -3 0 6 4 3 \n",
      "-8 -8 0 -3 -4 0 -1 0 -3 -4 0 0 0 5 2 \n",
      "0 1 0 -5 0 -5 -3 0 0 -4 0 -4 0 0 3 \n",
      "0 0 0 -1 -4 -1 0 1 1 0 0 -4 -6 0 0 \n",
      "-3 -5 0 0 0 0 2 -2 2 1 0 0 0 0 -4 \n",
      "0 0 0 0 3 1 2 -1 -4 0 8 6 0 0 -11 \n",
      "0 -4 -1 0 0 0 0 1 0 0 0 0 9 0 0 \n",
      "-9 1 -2 0 2 -1 0 0 0 2 0 1 1 4 1 \n",
      "-1 0 3 0 1 -1 0 0 4 2 0 2 1 1 3 \n",
      "-7 0 6 0 0 0 0 1 0 1 2 7 2 4 0 \n",
      "-2 0 6 0 3 6 -1 0 0 0 0 0 0 0 3 \n",
      "0 0 9 0 1 0 4 -5 -14 0 -13 0 5 2 1 \n",
      "8 9 0 0 2 5 0 -7 -11 0 -3 0 3 2 5 \n",
      "0 0 0 2 -2 0 0 -7 -8 -7 0 0 5 4 9 \n",
      "-20 -8 0 -4 -2 -1 -3 -6 -6 -15 0 5 8 4 4 \n"
     ]
    }
   ],
   "source": [
    "# Difference\n",
    "for i in range(0,gridSizeX):\n",
    "    for j in range(0,gridSizeY):\n",
    "        print(mdictDefaulter[(i,j)]-mdictNonDefaulter[(i,j)],end=' ')\n",
    "    print()"
   ]
  },
  {
   "cell_type": "code",
   "execution_count": 572,
   "metadata": {},
   "outputs": [
    {
     "data": {
      "text/plain": [
       "<matplotlib.colorbar.Colorbar at 0x1a1f051b70>"
      ]
     },
     "execution_count": 572,
     "metadata": {},
     "output_type": "execute_result"
    },
    {
     "data": {
      "image/png": "[encoded data removed]",
      "text/plain": [
       "<Figure size 432x288 with 2 Axes>"
      ]
     },
     "metadata": {},
     "output_type": "display_data"
    }
   ],
   "source": [
    "pcolor(matrix)\n",
    "colorbar()"
   ]
  },
  {
   "cell_type": "code",
   "execution_count": 573,
   "metadata": {},
   "outputs": [
    {
     "data": {
      "image/png": "[encoded data removed]",
      "text/plain": [
       "<Figure size 432x288 with 2 Axes>"
      ]
     },
     "metadata": {},
     "output_type": "display_data"
    }
   ],
   "source": [
    "#(0,0) is the left top-most cell \n",
    "import matplotlib.pyplot as plt\n",
    "import numpy as np\n",
    "\n",
    "# a = np.random.random((16, 16))\n",
    "a = matrix\n",
    "plt.imshow(a, cmap='hot', interpolation='nearest')\n",
    "colorbar()\n",
    "plt.show()"
   ]
  },
  {
   "cell_type": "code",
   "execution_count": 574,
   "metadata": {},
   "outputs": [],
   "source": [
    "from sklearn import datasets\n",
    "\n",
    "iris = datasets.load_iris()\n",
    "\n",
    "data = iris.data\n",
    "\n",
    "target = iris.target\n",
    "\n",
    "t1 = (target==0)\n",
    "\n",
    "t2 = (target==1)\n",
    "\n",
    "t3 = t1 | t2\n",
    "\n",
    "data = data[t3]\n",
    "target = target[t3]"
   ]
  },
  {
   "cell_type": "code",
   "execution_count": 575,
   "metadata": {},
   "outputs": [],
   "source": [
    "sc = MinMaxScaler(feature_range = (0, 1))\n",
    "data = sc.fit_transform(data)"
   ]
  },
  {
   "cell_type": "code",
   "execution_count": 576,
   "metadata": {},
   "outputs": [],
   "source": [
    "# Grid size\n",
    "gridSizeX = 5\n",
    "gridSizeY = 5\n",
    "som = MiniSom(x = gridSizeX,y=gridSizeY, input_len= len(data[0]),sigma=1.0,learning_rate=0.5)\n",
    "# In[158]:\n",
    "som.random_weights_init(data)\n",
    "# In[159]:\n",
    "som.train_random(data,200)\n",
    "matrix = som.distance_map()"
   ]
  },
  {
   "cell_type": "code",
   "execution_count": 577,
   "metadata": {},
   "outputs": [
    {
     "name": "stdout",
     "output_type": "stream",
     "text": [
      "(5, 5)\n"
     ]
    }
   ],
   "source": [
    "print(matrix.shape)"
   ]
  },
  {
   "cell_type": "code",
   "execution_count": 578,
   "metadata": {},
   "outputs": [],
   "source": [
    "mdict = {}\n",
    "mdictClass1 = {}\n",
    "mdictClass2 = {}\n",
    "for i,x in enumerate(data):\n",
    "    winnerCell = som.winner(x)\n",
    "    if(winnerCell in mdict.keys()):\n",
    "        mdict[winnerCell] += 1\n",
    "    else:\n",
    "        mdict[winnerCell] = 1\n",
    "    cls = target[i]\n",
    "    if(cls == 0):\n",
    "        if(winnerCell in mdictClass1.keys()):\n",
    "            mdictClass1[winnerCell] += 1\n",
    "        else:\n",
    "            mdictClass1[winnerCell] = 1\n",
    "    else:\n",
    "        if(winnerCell in mdictClass2.keys()):\n",
    "            mdictClass2[winnerCell] += 1\n",
    "        else:\n",
    "            mdictClass2[winnerCell] = 1"
   ]
  },
  {
   "cell_type": "code",
   "execution_count": 579,
   "metadata": {},
   "outputs": [
    {
     "name": "stdout",
     "output_type": "stream",
     "text": [
      "{(2, 0): 11, (2, 1): 3, (4, 0): 9, (3, 0): 7, (3, 1): 5, (4, 1): 8, (1, 0): 3, (0, 0): 3, (0, 1): 1, (4, 3): 6, (1, 2): 3, (1, 4): 5, (3, 3): 5, (1, 3): 3, (0, 4): 5, (4, 4): 2, (0, 2): 6, (3, 4): 2, (2, 3): 5, (0, 3): 3, (2, 4): 5}\n"
     ]
    }
   ],
   "source": [
    "print(mdict)"
   ]
  },
  {
   "cell_type": "code",
   "execution_count": 580,
   "metadata": {},
   "outputs": [
    {
     "name": "stdout",
     "output_type": "stream",
     "text": [
      "{(2, 0): 11, (2, 1): 3, (4, 0): 9, (3, 0): 7, (3, 1): 5, (4, 1): 8, (1, 0): 3, (0, 0): 3, (0, 1): 1}\n"
     ]
    }
   ],
   "source": [
    "print(mdictClass1)"
   ]
  },
  {
   "cell_type": "code",
   "execution_count": 581,
   "metadata": {},
   "outputs": [
    {
     "name": "stdout",
     "output_type": "stream",
     "text": [
      "{(4, 3): 6, (1, 2): 3, (1, 4): 5, (3, 3): 5, (1, 3): 3, (0, 4): 5, (4, 4): 2, (0, 2): 6, (3, 4): 2, (2, 3): 5, (0, 3): 3, (2, 4): 5}\n"
     ]
    }
   ],
   "source": [
    "print(mdictClass2)"
   ]
  },
  {
   "cell_type": "code",
   "execution_count": 582,
   "metadata": {},
   "outputs": [
    {
     "name": "stdout",
     "output_type": "stream",
     "text": [
      "3 1 0 0 0 \n",
      "3 0 0 0 0 \n",
      "11 3 0 0 0 \n",
      "7 5 0 0 0 \n",
      "9 8 0 0 0 \n"
     ]
    }
   ],
   "source": [
    "for i in range(0,gridSizeX):\n",
    "    for j in range(0,gridSizeY):\n",
    "        if((i,j) in mdictClass1.keys()):\n",
    "            print(mdictClass1[(i,j)],end=' ')\n",
    "        else:\n",
    "            mdictClass1[(i,j)] = 0\n",
    "            print(0,end=' ')\n",
    "    print()"
   ]
  },
  {
   "cell_type": "code",
   "execution_count": 583,
   "metadata": {},
   "outputs": [
    {
     "name": "stdout",
     "output_type": "stream",
     "text": [
      "0 0 6 3 5 \n",
      "0 0 3 3 5 \n",
      "0 0 0 5 5 \n",
      "0 0 0 5 2 \n",
      "0 0 0 6 2 \n"
     ]
    }
   ],
   "source": [
    "for i in range(0,gridSizeX):\n",
    "    for j in range(0,gridSizeY):\n",
    "        if((i,j) in mdictClass2.keys()):\n",
    "            print(mdictClass2[(i,j)],end=' ')\n",
    "        else:\n",
    "            mdictClass2[(i,j)] = 0\n",
    "            print(0,end=' ')\n",
    "    print()"
   ]
  },
  {
   "cell_type": "code",
   "execution_count": 584,
   "metadata": {},
   "outputs": [
    {
     "name": "stdout",
     "output_type": "stream",
     "text": [
      "3 1 -6 -3 -5 \n",
      "3 0 -3 -3 -5 \n",
      "11 3 0 -5 -5 \n",
      "7 5 0 -5 -2 \n",
      "9 8 0 -6 -2 \n"
     ]
    }
   ],
   "source": [
    "# Difference\n",
    "for i in range(0,gridSizeX):\n",
    "    for j in range(0,gridSizeY):\n",
    "        print(mdictClass1[(i,j)]-mdictClass2[(i,j)],end=' ')\n",
    "    print()\n"
   ]
  },
  {
   "cell_type": "code",
   "execution_count": 585,
   "metadata": {},
   "outputs": [
    {
     "data": {
      "image/png": "[encoded data removed]",
      "text/plain": [
       "<Figure size 432x288 with 2 Axes>"
      ]
     },
     "metadata": {},
     "output_type": "display_data"
    }
   ],
   "source": [
    "a = matrix\n",
    "plt.imshow(a, cmap='hot', interpolation='nearest')\n",
    "colorbar()\n",
    "plt.show()"
   ]
  },
  {
   "cell_type": "code",
   "execution_count": 640,
   "metadata": {},
   "outputs": [
    {
     "name": "stdout",
     "output_type": "stream",
     "text": [
      "(6, 6)\n"
     ]
    }
   ],
   "source": [
    "iris = datasets.load_iris()\n",
    "\n",
    "data = iris.data\n",
    "\n",
    "target = iris.target\n",
    "\n",
    "\n",
    "\n",
    "# In[268]:\n",
    "\n",
    "\n",
    "sc = MinMaxScaler(feature_range = (0, 1))\n",
    "data = sc.fit_transform(data)\n",
    "\n",
    "\n",
    "# In[269]:\n",
    "\n",
    "\n",
    "# Grid size\n",
    "gridSizeX = 6\n",
    "gridSizeY = 6\n",
    "som = MiniSom(x = gridSizeX,y=gridSizeY, input_len= len(data[0]),sigma=1.0,learning_rate=0.5)\n",
    "# In[158]:\n",
    "som.random_weights_init(data)\n",
    "# In[159]:\n",
    "som.train_random(data,200)\n",
    "matrix = som.distance_map()\n",
    "\n",
    "\n",
    "# In[270]:\n",
    "\n",
    "\n",
    "print(matrix.shape)"
   ]
  },
  {
   "cell_type": "code",
   "execution_count": 641,
   "metadata": {},
   "outputs": [
    {
     "data": {
      "text/plain": [
       "array([0, 0, 0, 0, 0, 0, 0, 0, 0, 0, 0, 0, 0, 0, 0, 0, 0, 0, 0, 0, 0, 0,\n",
       "       0, 0, 0, 0, 0, 0, 0, 0, 0, 0, 0, 0, 0, 0, 0, 0, 0, 0, 0, 0, 0, 0,\n",
       "       0, 0, 0, 0, 0, 0, 1, 1, 1, 1, 1, 1, 1, 1, 1, 1, 1, 1, 1, 1, 1, 1,\n",
       "       1, 1, 1, 1, 1, 1, 1, 1, 1, 1, 1, 1, 1, 1, 1, 1, 1, 1, 1, 1, 1, 1,\n",
       "       1, 1, 1, 1, 1, 1, 1, 1, 1, 1, 1, 1, 2, 2, 2, 2, 2, 2, 2, 2, 2, 2,\n",
       "       2, 2, 2, 2, 2, 2, 2, 2, 2, 2, 2, 2, 2, 2, 2, 2, 2, 2, 2, 2, 2, 2,\n",
       "       2, 2, 2, 2, 2, 2, 2, 2, 2, 2, 2, 2, 2, 2, 2, 2, 2, 2])"
      ]
     },
     "execution_count": 641,
     "metadata": {},
     "output_type": "execute_result"
    }
   ],
   "source": [
    "target"
   ]
  },
  {
   "cell_type": "code",
   "execution_count": 642,
   "metadata": {},
   "outputs": [],
   "source": [
    "mdict = {}\n",
    "mdictClass1 = {}\n",
    "mdictClass2 = {}\n",
    "mdictClass3 = {}\n",
    "for i,x in enumerate(data):\n",
    "    winnerCell = som.winner(x)\n",
    "    if(winnerCell in mdict.keys()):\n",
    "        mdict[winnerCell] += 1\n",
    "    else:\n",
    "        mdict[winnerCell] = 1\n",
    "    cls = target[i]\n",
    "    if(cls == 0):\n",
    "        if(winnerCell in mdictClass1.keys()):\n",
    "            mdictClass1[winnerCell] += 1\n",
    "        else:\n",
    "            mdictClass1[winnerCell] = 1\n",
    "    elif(cls == 1):\n",
    "        if(winnerCell in mdictClass2.keys()):\n",
    "            mdictClass2[winnerCell] += 1\n",
    "        else:\n",
    "            mdictClass2[winnerCell] = 1\n",
    "    else:\n",
    "        if(winnerCell in mdictClass3.keys()):\n",
    "            mdictClass3[winnerCell] += 1\n",
    "        else:\n",
    "            mdictClass3[winnerCell] = 1"
   ]
  },
  {
   "cell_type": "code",
   "execution_count": 643,
   "metadata": {},
   "outputs": [
    {
     "name": "stdout",
     "output_type": "stream",
     "text": [
      "{(4, 5): 25, (5, 5): 15, (3, 5): 7, (4, 4): 2, (2, 5): 1, (5, 2): 7, (4, 3): 1, (2, 0): 4, (4, 1): 4, (3, 2): 4, (3, 3): 3, (0, 0): 3, (0, 1): 2, (1, 0): 5, (1, 4): 2, (5, 0): 5, (4, 2): 8, (0, 5): 3, (4, 0): 6, (3, 1): 6, (0, 4): 2, (5, 1): 4, (3, 0): 7, (1, 5): 1, (0, 2): 2, (2, 1): 2, (2, 3): 3, (2, 2): 5, (1, 2): 5, (5, 3): 2, (1, 3): 2, (0, 3): 2}\n"
     ]
    }
   ],
   "source": [
    "print(mdict)"
   ]
  },
  {
   "cell_type": "code",
   "execution_count": 644,
   "metadata": {},
   "outputs": [
    {
     "name": "stdout",
     "output_type": "stream",
     "text": [
      "{(4, 5): 25, (5, 5): 15, (3, 5): 7, (4, 4): 2, (2, 5): 1}\n"
     ]
    }
   ],
   "source": [
    "print(mdictClass1)"
   ]
  },
  {
   "cell_type": "code",
   "execution_count": 645,
   "metadata": {},
   "outputs": [
    {
     "name": "stdout",
     "output_type": "stream",
     "text": [
      "{(5, 2): 7, (4, 3): 1, (2, 0): 2, (4, 1): 2, (3, 2): 3, (3, 3): 3, (0, 0): 1, (0, 1): 1, (1, 0): 2, (1, 4): 2, (5, 0): 1, (4, 2): 8, (0, 5): 3, (4, 0): 3, (3, 1): 4, (0, 4): 1, (5, 1): 2, (3, 0): 2, (1, 5): 1, (0, 2): 1}\n"
     ]
    }
   ],
   "source": [
    "print(mdictClass2)"
   ]
  },
  {
   "cell_type": "code",
   "execution_count": 646,
   "metadata": {},
   "outputs": [
    {
     "name": "stdout",
     "output_type": "stream",
     "text": [
      "{(0, 2): 1, (1, 0): 3, (4, 1): 2, (3, 1): 2, (2, 1): 2, (5, 0): 4, (0, 0): 2, (4, 0): 3, (2, 3): 3, (3, 0): 5, (2, 2): 5, (1, 2): 5, (5, 3): 2, (0, 1): 1, (5, 1): 2, (1, 3): 2, (2, 0): 2, (0, 3): 2, (3, 2): 1, (0, 4): 1}\n"
     ]
    }
   ],
   "source": [
    "print(mdictClass3)"
   ]
  },
  {
   "cell_type": "code",
   "execution_count": 647,
   "metadata": {},
   "outputs": [
    {
     "name": "stdout",
     "output_type": "stream",
     "text": [
      "0 0 0 0 0 0 \n",
      "0 0 0 0 0 0 \n",
      "0 0 0 0 0 1 \n",
      "0 0 0 0 0 7 \n",
      "0 0 0 0 2 25 \n",
      "0 0 0 0 0 15 \n"
     ]
    }
   ],
   "source": [
    "for i in range(0,gridSizeX):\n",
    "    for j in range(0,gridSizeY):\n",
    "        if((i,j) in mdictClass1.keys()):\n",
    "            print(mdictClass1[(i,j)],end=' ')\n",
    "        else:\n",
    "            mdictClass1[(i,j)] = 0\n",
    "            print(0,end=' ')\n",
    "    print()"
   ]
  },
  {
   "cell_type": "code",
   "execution_count": 648,
   "metadata": {
    "scrolled": true
   },
   "outputs": [
    {
     "name": "stdout",
     "output_type": "stream",
     "text": [
      "1 1 1 0 1 3 \n",
      "2 0 0 0 2 1 \n",
      "2 0 0 0 0 0 \n",
      "2 4 3 3 0 0 \n",
      "3 2 8 1 0 0 \n",
      "1 2 7 0 0 0 \n"
     ]
    }
   ],
   "source": [
    "for i in range(0,gridSizeX):\n",
    "    for j in range(0,gridSizeY):\n",
    "        if((i,j) in mdictClass2.keys()):\n",
    "            print(mdictClass2[(i,j)],end=' ')\n",
    "        else:\n",
    "            mdictClass2[(i,j)] = 0\n",
    "            print(0,end=' ')\n",
    "    print()"
   ]
  },
  {
   "cell_type": "code",
   "execution_count": 649,
   "metadata": {},
   "outputs": [
    {
     "name": "stdout",
     "output_type": "stream",
     "text": [
      "2 1 1 2 1 0 \n",
      "3 0 5 2 0 0 \n",
      "2 2 5 3 0 0 \n",
      "5 2 1 0 0 0 \n",
      "3 2 0 0 0 0 \n",
      "4 2 0 2 0 0 \n"
     ]
    }
   ],
   "source": [
    "for i in range(0,gridSizeX):\n",
    "    for j in range(0,gridSizeY):\n",
    "        if((i,j) in mdictClass3.keys()):\n",
    "            print(mdictClass3[(i,j)],end=' ')\n",
    "        else:\n",
    "            mdictClass3[(i,j)] = 0\n",
    "            print(0,end=' ')\n",
    "    print()"
   ]
  },
  {
   "cell_type": "code",
   "execution_count": 650,
   "metadata": {},
   "outputs": [
    {
     "data": {
      "text/plain": [
       "array([[0.07532321, 0.13709101, 0.08785161, 0.08563578, 0.09990291,\n",
       "        0.05216418],\n",
       "       [0.1536778 , 0.20686069, 0.17307934, 0.19818436, 0.31510709,\n",
       "        0.2291705 ],\n",
       "       [0.13961335, 0.20143955, 0.18368014, 0.38956369, 0.7230095 ,\n",
       "        0.54034512],\n",
       "       [0.13990371, 0.23032398, 0.23584832, 0.60235047, 1.        ,\n",
       "        0.56432014],\n",
       "       [0.15661843, 0.23081911, 0.23924323, 0.6754716 , 0.95547495,\n",
       "        0.42194585],\n",
       "       [0.06141901, 0.1368723 , 0.14112565, 0.43071122, 0.6304431 ,\n",
       "        0.21909061]])"
      ]
     },
     "execution_count": 650,
     "metadata": {},
     "output_type": "execute_result"
    }
   ],
   "source": [
    "matrix"
   ]
  },
  {
   "cell_type": "code",
   "execution_count": 651,
   "metadata": {},
   "outputs": [
    {
     "name": "stdout",
     "output_type": "stream",
     "text": [
      "0.08 0.14 0.09 0.09 0.1 0.05 \n",
      "0.15 0.21 0.17 0.2 0.32 0.23 \n",
      "0.14 0.2 0.18 0.39 0.72 0.54 \n",
      "0.14 0.23 0.24 0.6 1.0 0.56 \n",
      "0.16 0.23 0.24 0.68 0.96 0.42 \n",
      "0.06 0.14 0.14 0.43 0.63 0.22 \n"
     ]
    }
   ],
   "source": [
    "matrix2 = matrix\n",
    "for i in range(gridSizeX):\n",
    "    for j in range(gridSizeY):\n",
    "        matrix2[i][j] = round(matrix[i][j],2)\n",
    "        print(matrix2[i][j],end = ' ')\n",
    "    print()"
   ]
  },
  {
   "cell_type": "code",
   "execution_count": 652,
   "metadata": {},
   "outputs": [
    {
     "data": {
      "image/png": "[encoded data removed]",
      "text/plain": [
       "<Figure size 432x288 with 2 Axes>"
      ]
     },
     "metadata": {},
     "output_type": "display_data"
    }
   ],
   "source": [
    "a = matrix2\n",
    "plt.imshow(a, cmap='RdBu', interpolation='nearest')\n",
    "colorbar()\n",
    "plt.show()"
   ]
  },
  {
   "cell_type": "code",
   "execution_count": 691,
   "metadata": {},
   "outputs": [
    {
     "name": "stdout",
     "output_type": "stream",
     "text": [
      "(6, 6)\n"
     ]
    }
   ],
   "source": [
    "cancer = datasets.load_breast_cancer()\n",
    "data = cancer.data\n",
    "\n",
    "target = cancer.target\n",
    "\n",
    "\n",
    "\n",
    "# In[268]:\n",
    "\n",
    "\n",
    "sc = MinMaxScaler(feature_range = (0, 1))\n",
    "data = sc.fit_transform(data)\n",
    "\n",
    "\n",
    "# In[269]:\n",
    "\n",
    "\n",
    "# Grid size\n",
    "gridSizeX = 6\n",
    "gridSizeY = 6\n",
    "som = MiniSom(x = gridSizeX,y=gridSizeY, input_len= len(data[0]),sigma=1.0,learning_rate=0.5)\n",
    "# In[158]:\n",
    "som.random_weights_init(data)\n",
    "# In[159]:\n",
    "som.train_random(data,1000)\n",
    "matrix = som.distance_map()\n",
    "\n",
    "\n",
    "# In[270]:\n",
    "\n",
    "\n",
    "print(matrix.shape)"
   ]
  },
  {
   "cell_type": "code",
   "execution_count": 692,
   "metadata": {},
   "outputs": [],
   "source": [
    "mdict = {}\n",
    "mdictClass1 = {}\n",
    "mdictClass2 = {}\n",
    "for i,x in enumerate(data):\n",
    "    winnerCell = som.winner(x)\n",
    "    if(winnerCell in mdict.keys()):\n",
    "        mdict[winnerCell] += 1\n",
    "    else:\n",
    "        mdict[winnerCell] = 1\n",
    "    cls = target[i]\n",
    "    if(cls == 0):\n",
    "        if(winnerCell in mdictClass1.keys()):\n",
    "            mdictClass1[winnerCell] += 1\n",
    "        else:\n",
    "            mdictClass1[winnerCell] = 1\n",
    "    else:\n",
    "        if(winnerCell in mdictClass2.keys()):\n",
    "            mdictClass2[winnerCell] += 1\n",
    "        else:\n",
    "            mdictClass2[winnerCell] = 1"
   ]
  },
  {
   "cell_type": "code",
   "execution_count": 693,
   "metadata": {},
   "outputs": [
    {
     "name": "stdout",
     "output_type": "stream",
     "text": [
      "0 0 9 0 0 0 \n",
      "5 13 12 8 0 0 \n",
      "6 13 12 9 0 0 \n",
      "11 13 13 8 0 1 \n",
      "15 11 10 5 0 2 \n",
      "5 9 15 6 1 0 \n"
     ]
    }
   ],
   "source": [
    "for i in range(0,gridSizeX):\n",
    "    for j in range(0,gridSizeY):\n",
    "        if((i,j) in mdictClass1.keys()):\n",
    "            print(mdictClass1[(i,j)],end=' ')\n",
    "        else:\n",
    "            mdictClass1[(i,j)] = 0\n",
    "            print(0,end=' ')\n",
    "    print()"
   ]
  },
  {
   "cell_type": "code",
   "execution_count": 694,
   "metadata": {},
   "outputs": [
    {
     "name": "stdout",
     "output_type": "stream",
     "text": [
      "15 7 2 10 22 30 \n",
      "12 4 2 7 32 13 \n",
      "5 1 2 8 20 25 \n",
      "3 5 0 14 12 27 \n",
      "0 0 1 20 12 4 \n",
      "1 0 1 4 18 18 \n"
     ]
    }
   ],
   "source": [
    "for i in range(0,gridSizeX):\n",
    "    for j in range(0,gridSizeY):\n",
    "        if((i,j) in mdictClass2.keys()):\n",
    "            print(mdictClass2[(i,j)],end=' ')\n",
    "        else:\n",
    "            mdictClass2[(i,j)] = 0\n",
    "            print(0,end=' ')\n",
    "    print()"
   ]
  },
  {
   "cell_type": "code",
   "execution_count": 695,
   "metadata": {},
   "outputs": [
    {
     "data": {
      "image/png": "[encoded data removed]",
      "text/plain": [
       "<Figure size 432x288 with 2 Axes>"
      ]
     },
     "metadata": {},
     "output_type": "display_data"
    }
   ],
   "source": [
    "a = matrix\n",
    "plt.imshow(a, cmap='hot', interpolation='nearest')\n",
    "colorbar()\n",
    "plt.show()"
   ]
  },
  {
   "cell_type": "code",
   "execution_count": null,
   "metadata": {},
   "outputs": [],
   "source": []
  }
 ],
 "metadata": {
  "kernelspec": {
   "display_name": "Python 3",
   "language": "python",
   "name": "python3"
  },
  "language_info": {
   "codemirror_mode": {
    "name": "ipython",
    "version": 3
   },
   "file_extension": ".py",
   "mimetype": "text/x-python",
   "name": "python",
   "nbconvert_exporter": "python",
   "pygments_lexer": "ipython3",
   "version": "3.6.4"
  }
 },
 "nbformat": 4,
 "nbformat_minor": 2
}
